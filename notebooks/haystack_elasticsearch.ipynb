{
 "cells": [
  {
   "cell_type": "markdown",
   "id": "5a215246-75c3-4166-972b-b41e9c79d029",
   "metadata": {},
   "source": [
    "# Introduction\n",
    "\n",
    "The notebook is inteded to experiment with Haystack and Elasticsearch as Document Store.\n",
    "\n",
    "**Resources:**\n",
    "- [Documentation](https://haystack.deepset.ai/integrations/elasticsearch-document-store)"
   ]
  },
  {
   "cell_type": "code",
   "execution_count": 7,
   "id": "77b32b6f-da60-4312-babc-35adb5ea9a8b",
   "metadata": {},
   "outputs": [
    {
     "ename": "ModuleNotFoundError",
     "evalue": "No module named 'haystack'",
     "output_type": "error",
     "traceback": [
      "\u001b[0;31m---------------------------------------------------------------------------\u001b[0m",
      "\u001b[0;31mModuleNotFoundError\u001b[0m                       Traceback (most recent call last)",
      "Cell \u001b[0;32mIn[7], line 2\u001b[0m\n\u001b[1;32m      1\u001b[0m \u001b[38;5;66;03m# Import Standard Libraries\u001b[39;00m\n\u001b[0;32m----> 2\u001b[0m \u001b[38;5;28;01mimport\u001b[39;00m \u001b[38;5;21;01mhaystack\u001b[39;00m\n",
      "\u001b[0;31mModuleNotFoundError\u001b[0m: No module named 'haystack'"
     ]
    }
   ],
   "source": [
    "# Import Standard Libraries\n",
    "import haystack"
   ]
  },
  {
   "cell_type": "code",
   "execution_count": null,
   "id": "ed894603-a44e-4cef-8481-b1d7d9a9b4f7",
   "metadata": {},
   "outputs": [],
   "source": []
  }
 ],
 "metadata": {
  "kernelspec": {
   "display_name": "Python 3 (ipykernel)",
   "language": "python",
   "name": "python3"
  },
  "language_info": {
   "codemirror_mode": {
    "name": "ipython",
    "version": 3
   },
   "file_extension": ".py",
   "mimetype": "text/x-python",
   "name": "python",
   "nbconvert_exporter": "python",
   "pygments_lexer": "ipython3",
   "version": "3.10.5"
  }
 },
 "nbformat": 4,
 "nbformat_minor": 5
}
